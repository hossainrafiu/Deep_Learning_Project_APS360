{
 "cells": [
  {
   "cell_type": "code",
   "execution_count": 1,
   "metadata": {},
   "outputs": [],
   "source": [
    "def extractFeatures(file_name): #Eric/Rafiu\n",
    "  import librosa\n",
    "  import librosa.display\n",
    "\n",
    "  y, s = librosa.load(f'./{file_name}')\n",
    "  audio, _ = librosa.effects.trim(y)\n",
    "  har, per = librosa.effects.hpss(audio)                    # NOTE: percussion might be different from pereptr as in csv file\n",
    "  sc = librosa.feature.spectral_centroid(audio, sr=s)[0]\n",
    "  sr = librosa.feature.spectral_rolloff(audio, sr=s)[0]\n",
    "  sb = librosa.feature.spectral_bandwidth(audio, sr=s)[0] \n",
    "  tempo, _ = librosa.beat.beat_track(y, sr = s)             # gives global tempo\n",
    "  mfcc = librosa.feature.mfcc(audio, sr=s)                  # NOTE: there are 20 different mfcc\n",
    "  chroma = librosa.feature.chroma_stft(audio, sr=s) \n",
    "  rms = librosa.feature.rms(audio)\n",
    "  zcr = librosa.feature.zero_crossing_rate(audio)\n",
    "\n",
    "  har_m, har_v = meanvar(har)\n",
    "  per_m, per_v = meanvar(per)\n",
    "  sc_m, sc_v = meanvar(sc)\n",
    "  sr_m, sr_v = meanvar(sr)\n",
    "  sb_m, sb_v = meanvar(sb)\n",
    "  mfcc_m, mfcc_v = [0]*len(mfcc), [0]*len(mfcc)   # there are 20\n",
    "  for i in range(len(mfcc)):\n",
    "    mfcc_m[i], mfcc_v[i] = meanvar(mfcc[i]) \n",
    "  chroma_m, chroma_v = meanvar(chroma)\n",
    "  rms_m, rms_v = meanvar(rms)\n",
    "  zcr_m, zcr_v = meanvar(zcr)\n",
    "\n",
    "  # Same order as csv file\n",
    "  features = [chroma_m, chroma_v, rms_m, rms_v, sc_m, sc_v, sb_m, sb_v, sr_m, sr_v, zcr_m, zcr_v, har_m, har_v, per_m, per_v, tempo, np.array(mfcc_m), np.array(mfcc_v)]\n",
    "\n",
    "  return np.array(features, dtype=object)\n",
    "\n",
    "def meanvar(array):\n",
    "  return np.mean(array), np.var(array)\n",
    "\n",
    "def classification(): #kevin\n",
    "  pass\n",
    "#use cvs data and put through ann"
   ]
  }
 ],
 "metadata": {
  "kernelspec": {
   "display_name": "base",
   "language": "python",
   "name": "python3"
  },
  "language_info": {
   "codemirror_mode": {
    "name": "ipython",
    "version": 3
   },
   "file_extension": ".py",
   "mimetype": "text/x-python",
   "name": "python",
   "nbconvert_exporter": "python",
   "pygments_lexer": "ipython3",
   "version": "3.9.13"
  },
  "orig_nbformat": 4
 },
 "nbformat": 4,
 "nbformat_minor": 2
}
